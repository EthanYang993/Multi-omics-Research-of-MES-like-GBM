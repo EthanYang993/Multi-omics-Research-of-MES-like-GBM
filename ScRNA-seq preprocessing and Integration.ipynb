{
 "cells": [
  {
   "cell_type": "code",
   "execution_count": null,
   "id": "945a3301-91d7-4554-a2d3-64b16d0516ea",
   "metadata": {
    "tags": []
   },
   "outputs": [],
   "source": [
    "import gc\n",
    "gc.collect()"
   ]
  },
  {
   "cell_type": "code",
   "execution_count": null,
   "id": "3f7e99ca-ca1e-4f76-b5e6-ad8a3cc4a98c",
   "metadata": {
    "tags": []
   },
   "outputs": [],
   "source": [
    "import numpy as np\n",
    "import pandas as pd\n",
    "import scanpy as sc\n",
    "import seaborn as sns\n",
    "import sklearn\n",
    "import sys\n",
    "import scipy\n",
    "import bbknn\n",
    "from scanpy.tools import leiden\n",
    "from collections import Counter\n",
    "import scanpy.logging as logg\n",
    "import functools\n",
    "from datetime import datetime\n",
    "import matplotlib.pyplot as pl\n",
    "from matplotlib import rcParams\n",
    "\n",
    "#Define Function\n",
    "def timestamp():\n",
    "    \"\"\"\n",
    "    Returns current time in format: YYYY-MM-DDThh-mm-ss\n",
    "    \"\"\"\n",
    "    return datetime.now().strftime(\"%Y-%m-%dT%H-%M-%S\")\n",
    "\n",
    "#\n",
    "def datestamp():\n",
    "    return datetime.now().strftime(\"%Y%m%d\")\n",
    "#\n",
    "def play_nice_with_categories(has_int=False):\n",
    "    \"\"\"\n",
    "    Any function that modifies a dataframe categorical dataframe column, e.g.\n",
    "    `adata.obs['cluster']`, will first have the column transformed to 'object' dtype (or\n",
    "    optionally 'int' dtype) for it to operate on and return.  The returning column will\n",
    "    then be transformed into an ordered categorical column again.\n",
    "    \"\"\"\n",
    "    def decorator_play_nice_with_categories(func):\n",
    "        @functools.wraps(func)\n",
    "        def wrapper(df, *args, **kwargs):\n",
    "            \"\"\"\n",
    "            expects just a single adata.obs[key] column\n",
    "            \"\"\"\n",
    "            df = df.astype(\"str\")\n",
    "            if has_int:\n",
    "                df = df.astype(\"int\")\n",
    "            new_df = func(df, *args, **kwargs)\n",
    "            new_df = new_df.astype(\"str\").astype(\"category\")\n",
    "            if has_int:\n",
    "                new_df.cat.reorder_categories(\n",
    "                    new_df.cat.categories.astype(int).sort_values().astype(str),\n",
    "                    inplace=True\n",
    "                )\n",
    "            return new_df\n",
    "        return wrapper\n",
    "    return decorator_play_nice_with_categories\n",
    "\n",
    "@play_nice_with_categories(has_int=True)\n",
    "def shift_clusters(obs):\n",
    "    if obs.min() == 0:\n",
    "        obs += 1\n",
    "    return obs\n",
    "\n",
    "@play_nice_with_categories(has_int=True)\n",
    "def order_clusters(obs):\n",
    "    return obs\n",
    "\n",
    "@play_nice_with_categories(has_int=True)\n",
    "def reset_int_category(obs):\n",
    "    uniq = sorted(obs.unique())\n",
    "    new_ints = np.arange(1, len(uniq) + 1, dtype=int)\n",
    "    mapping = dict(zip(uniq, new_ints))\n",
    "    return obs.map(mapping)\n",
    "\n",
    "__api_objects__ = {\n",
    "    \"datestamp\": datestamp,\n",
    "    \"timestamp\": timestamp,\n",
    "}\n",
    "\n",
    "\n",
    "def subcluster(adata_filt, cluster, resolution=0.4, cluster_key=\"cluster\"):\n",
    "    dtype = adata_filt.obs[cluster_key].dtype\n",
    "    if dtype in (\"object\", str, pd.api.types.CategoricalDtype):\n",
    "        cluster = str(cluster)\n",
    "    #else:\n",
    "    #    cluster = int(cluster)\n",
    "\n",
    "    if cluster_key[-1].isdigit():\n",
    "        base, version = cluster_key.split(\"_R\")\n",
    "        key_added = f\"{base}_R{int(version)+1}\"\n",
    "    else:\n",
    "        key_added = f\"{cluster_key}_R1\"\n",
    "    leiden(\n",
    "        adata_filt,\n",
    "        resolution=resolution,\n",
    "        key_added=key_added,\n",
    "        restrict_to=(cluster_key, [cluster]),\n",
    "    )\n",
    "\n",
    "    # we want to preserve the ordering of old clusters and just add more.\n",
    "    all_new_clusters = adata_filt.obs[key_added].cat.categories\n",
    "    just_new_clusters = all_new_clusters[all_new_clusters.str.startswith(cluster)]\n",
    "    if len(just_new_clusters) == 1:\n",
    "        logg.warning(f\"Wasn't able to subcluster with resolution `{resolution}`].\")\n",
    "        logg.warning(f\"You may try increasing the resolution.\")\n",
    "        logg.warning(f\"Returning `adata` with original clusters under `{cluster_key}`.\")\n",
    "        adata_filt.obs.drop(key_added, axis=1, inplace=True)\n",
    "        return\n",
    "\n",
    "    old_max = adata_filt.obs[cluster_key].astype(int).max()\n",
    "\n",
    "    tmp = pd.DataFrame()\n",
    "    tmp[\"old\"] = adata_filt.obs[cluster_key].astype(\"object\")\n",
    "    tmp[\"tmp\"] = adata_filt.obs[key_added].astype(\"object\")\n",
    "    tmp[\"suff\"] = adata_filt.obs[key_added].str.extract(\",(\\d+)\", expand=False)\n",
    "    tmp[\"new\"] = tmp.old\n",
    "    remapper = lambda row: row.old if row.suff == \"0\" else str(old_max + int(row.suff))\n",
    "    tmp.loc[tmp.old != tmp.tmp, \"new\"] = tmp.loc[tmp.old != tmp.tmp].apply(\n",
    "        remapper, axis=1\n",
    "    )\n",
    "\n",
    "    #adata_filt.obs[key_added] = tmp[\"new\"].astype(str).astype(\"category\")\n",
    "    adata_filt.obs[key_added] = order_clusters(tmp[\"new\"])\n",
    "    #order_clusters(adata_filt, key_added)\n",
    "    logg.info(f\"Updated clusters under `adata_redux.obs['{key_added}']`.\")\n",
    "\n",
    "#\n",
    "sc.settings.verbosity = 3  # verbosity: errors (0), warnings (1), info (2), hints (3)\n",
    "sc.logging.print_header()\n",
    "# "
   ]
  },
  {
   "cell_type": "code",
   "execution_count": null,
   "id": "b38f6f5a-514a-446e-8d5a-e29a0df4280f",
   "metadata": {
    "tags": []
   },
   "outputs": [],
   "source": [
    "adata = sc.read_h5ad(\"/media/4T_disk/scRNA_10X_data_human/10X_human_T_merge/data/merge/scobj_GSE139448_verhaak_GSE223063.h5ad\")\n",
    "print(adata)\n",
    "print(adata.obs)\n",
    "adata.uns\n",
    "#\n",
    "sc.pl.highest_expr_genes(adata, n_top=20)\n",
    "sc.pp.filter_cells(adata, min_genes=300)\n",
    "sc.pp.filter_genes(adata, min_cells=5)\n",
    "adata\n",
    "#"
   ]
  },
  {
   "cell_type": "code",
   "execution_count": null,
   "id": "3c5a2c13-ee08-4893-9547-c51fbd1daff8",
   "metadata": {
    "tags": []
   },
   "outputs": [],
   "source": [
    "adata.var['mt'] = adata.var_names.str.startswith('MT-')  \n",
    "sc.pp.calculate_qc_metrics(adata, qc_vars=['mt'], percent_top=None, log1p=False, inplace=True)\n",
    "sc.pl.violin(adata, ['n_genes_by_counts', 'total_counts', 'pct_counts_mt'],jitter=0.4, multi_panel=True,groupby= \"orig.ident\",rotation=90)\n",
    "#sc.pl.violin(adata, ['sequencing_saturation', 'scrublet_predicted_doublets', 'pct_counts_mitochondrial'],jitter=0.4, multi_panel=True,groupby= \"sampleid\")\n"
   ]
  },
  {
   "cell_type": "code",
   "execution_count": null,
   "id": "9c144c43-87f1-4f96-af09-3c9419908e03",
   "metadata": {
    "tags": []
   },
   "outputs": [],
   "source": [
    "sc.pl.scatter(adata, x='total_counts', y='pct_counts_mt')\n",
    "sc.pl.scatter(adata, x='total_counts', y='n_genes_by_counts')\n",
    "#Filter out cells with high mitochondrial expression.\n",
    "adata = adata[adata.obs['pct_counts_mt'] < 30, :]\n",
    "sc.pl.violin(adata, ['n_genes_by_counts', 'total_counts', 'pct_counts_mt'],jitter=0.4, multi_panel=True,groupby= \"orig.ident\",rotation=90)\n",
    "\n",
    "adata\n",
    "sc.pp.normalize_total(adata, target_sum=1e4)\n",
    "sc.pp.log1p(adata)\n",
    "adata\n",
    "# Identify high variable genes\n",
    "sc.pp.highly_variable_genes(adata, n_top_genes=1500)\n",
    "#import scanpy_recipes\n",
    "#from scanpy_recipes.recipes.qc import read_hemoglobin_file, read_mito_file\n",
    "mito_genes = [\"MT-TF\", \"MT-RNR1\", \"MT-TV\", \"MT-RNR2\", \"MT-TL1\", \"MT-ND1\",\"MT-TI\", \"MT-TQ\", \"MT-TM\", \"MT-ND2\", \"MT-TW\", \"MT-TA\", \"MT-TN\",\"MT-TC\", \"MT-TY\", \"MT-CO1\", \"MT-TS1\", \"MT-TD\", \"MT-CO2\", \"MT-TK\",\"MT-ATP8\", \"MT-ATP6\", \"MT-CO3\", \"MT-TG\", \"MT-ND3\", \"MT-TR\", \"MT-ND4L\",\"MT-ND4\", \"MT-TH\", \"MT-TS2\", \"MT-TL2\", \"MT-ND5\", \"MT-ND6\", \"MT-TE\",\"MT-CYB\", \"MT-TT\", \"MT-TP\"]\n",
    "\n",
    "hemo_genes = [\"HBA1\", \"HBA2\", \"HBB\", \"HBD\", \"HBE1\", \"HBG1\", \"HBG2\", \"HBM\", \"HBQ1\", \"HBZ\"]\n",
    "\n",
    "adata.var[\"hemoglobin\"] = adata.var_names.isin(hemo_genes)\n",
    "adata.var['mitochondrial'] = adata.var_names.isin(mito_genes)\n",
    "\n",
    "adata.var.loc[adata.var.mitochondrial|adata.var.hemoglobin, \"highly_variable\"] = False\n",
    "adata.var.groupby(['highly_variable','hemoglobin', 'mitochondrial']).size()\n",
    "\n",
    "sc.pl.highly_variable_genes(adata)\n",
    "# SAVE RAW DATA\n",
    "adata.raw = adata\n",
    "#adata = adata[:, adata.var.highly_variable]\n",
    "Counter(adata.var.highly_variable)"
   ]
  },
  {
   "cell_type": "code",
   "execution_count": null,
   "id": "fd179c76-dd78-4fbc-a7df-8d92cde304f6",
   "metadata": {
    "tags": []
   },
   "outputs": [],
   "source": [
    "# Regression, ['total_counts', 'pct_counts_mt']\n",
    "sc.pp.regress_out(adata,['total_counts', 'pct_counts_mt'], n_jobs=38)\n",
    "\n",
    "sc.pp.scale(adata, max_value=10)\n",
    "#Run PCA\n",
    "sc.tl.pca(adata)\n",
    "#sc.pl.pca(adata, color='SOX2')\n",
    "# Elbow Plot\n",
    "sc.pl.pca_variance_ratio(adata, log=True,n_pcs=50)\n",
    "adata.uns\n",
    "\n",
    "#Integration\n",
    "sc.external.pp.bbknn(adata, batch_key='orig.ident',annoy_n_trees=50)"
   ]
  },
  {
   "cell_type": "code",
   "execution_count": null,
   "id": "86f2f4a8-5692-4589-84fd-c77a6c46c219",
   "metadata": {
    "tags": []
   },
   "outputs": [],
   "source": [
    "#UMAP\n",
    "sc.tl.umap(adata)"
   ]
  },
  {
   "cell_type": "code",
   "execution_count": null,
   "id": "b5b72df2-fa5e-4872-aa3b-9d2418b6b7c2",
   "metadata": {
    "tags": []
   },
   "outputs": [],
   "source": [
    "#clustering\n",
    "sc.tl.leiden(adata,resolution=0.6,key_added = \"leiden\")"
   ]
  },
  {
   "cell_type": "code",
   "execution_count": null,
   "id": "a1cef900-228f-480f-807b-27674816b141",
   "metadata": {
    "tags": []
   },
   "outputs": [],
   "source": [
    "#Show UMAP\n",
    "sc.pl.umap(adata, color=['orig.ident','time_point', 'leiden'],legend_loc='on data')"
   ]
  },
  {
   "cell_type": "code",
   "execution_count": null,
   "id": "ca21dda6-d613-45f1-9c2d-674f50856698",
   "metadata": {
    "tags": []
   },
   "outputs": [],
   "source": [
    "#细分亚群作图#\n",
    "subcluster(adata_filt=adata, cluster=\"11\", resolution=0.1, cluster_key=\"leiden\")\n",
    "sc.pl.umap(adata, color=['leiden','time_point', 'leiden_R1'], legend_loc='on data')\n",
    "#\n"
   ]
  },
  {
   "cell_type": "code",
   "execution_count": null,
   "id": "ea5f9959-ef3b-490f-86ad-aff0aaa7987f",
   "metadata": {
    "tags": []
   },
   "outputs": [],
   "source": [
    "subcluster(adata_filt=adata, cluster=\"15\", resolution=0.1, cluster_key=\"leiden_R1\")\n",
    "sc.pl.umap(adata, color=['leiden','time_point', 'leiden_R2'], legend_loc='on data')"
   ]
  },
  {
   "cell_type": "code",
   "execution_count": null,
   "id": "4550de9f-1043-4f66-80a7-061c126bc503",
   "metadata": {
    "tags": []
   },
   "outputs": [],
   "source": [
    "subcluster(adata_filt=adata, cluster=\"14\", resolution=0.1, cluster_key=\"leiden_R2\")\n",
    "sc.pl.umap(adata, color=['leiden','time_point', 'leiden_R2'], legend_loc='on data')"
   ]
  },
  {
   "cell_type": "code",
   "execution_count": null,
   "id": "6df1607f-3ea7-446e-8aaf-3bf40cfb225c",
   "metadata": {
    "tags": []
   },
   "outputs": [],
   "source": [
    "sc.pl.umap(adata, color=['leiden','leiden_R1','leiden_R2'], legend_loc='on data')\n",
    "#"
   ]
  },
  {
   "cell_type": "code",
   "execution_count": null,
   "id": "edee684b-a545-4178-9fab-bdecac79ce3a",
   "metadata": {
    "tags": []
   },
   "outputs": [],
   "source": [
    "adata"
   ]
  },
  {
   "cell_type": "code",
   "execution_count": 50,
   "id": "d171ac53-c821-4215-b811-d599bce81629",
   "metadata": {
    "tags": []
   },
   "outputs": [],
   "source": [
    "# Transfer h5ad to Seurat Obj\n",
    "\n",
    "import numpy as np\n",
    "import pandas as pd\n",
    "import scanpy as sc\n",
    "import diopy\n",
    "\n",
    "# Load data\n",
    "#adata = sc.read_h5ad(\"/media/4T_disk/scRNA_10X_data_human/10X_human_T_merge/data/BBKNN_scRNAseq_tumor_Verhaak_GSE139448_GSE173278_with_meta.h5ad\")\n",
    "\n",
    "# Export\n",
    "diopy.output.write_h5(adata, \n",
    "                      file = '/media/4T_disk/scRNA_10X_data_human/10X_human_merge/data/merge/BBKNN_scobj_with_meta.h5', \n",
    "                      save_X=False)"
   ]
  },
  {
   "cell_type": "code",
   "execution_count": 65,
   "id": "f3503c7d-256c-4831-bde9-a55636f4a6da",
   "metadata": {
    "tags": []
   },
   "outputs": [],
   "source": [
    "# 保存数据\n",
    "adata\n",
    "results_file = '/media/4T_disk/scRNA_10X_data_human/10X_human_merge/data/BBKNN_scRNAseq_tumor_Verhaak_GSE139448_GSE173278_with_meta.h5ad'\n",
    "adata.write(results_file)\n",
    "\n",
    "#保存UMAP坐标\n",
    "cord_name='X_umap'\n",
    "cord=pd.DataFrame(data=adata.obsm[cord_name],index=adata.obs_names,columns=['umap_x','umap_y'])\n",
    "cord.to_csv('/media/4T_disk/scRNA_10X_data_human/10X_human_merge/data/Verhaak_GSE139448_GSE173278_position_X_umap.csv')\n",
    "\n",
    "obs_df = pd.DataFrame(adata.obs)\n",
    "obs_df.to_csv('/media/4T_disk/scRNA_10X_data_human/10X_human_merge/data/Verhaak_GSE139448_GSE173278_obs_info.csv')\n",
    "\n",
    "## Harmony Integration\n",
    "# adata_concat=adata\n",
    "# sc.tl.pca(adata_concat)\n",
    "# sc.external.pp.harmony_integrate(adata_concat, key='case_barcode')\n",
    "# 计算邻域图。umap降维\n",
    "# pcs_num=50\n",
    "# neighbor_num=33\n",
    "# sc.pp.neighbors(adata_concat,use_rep='X_pca_harmony',n_neighbors=neighbor_num, n_pcs=pcs_num)\n",
    "# sc.tl.umap(adata_concat)\n",
    "# sc.tl.leiden(adata,resolution=5)\n",
    "# sc.pl.umap(adata, color=['case_barcode','cell_state', 'leiden'], legend_loc='on data')"
   ]
  },
  {
   "cell_type": "code",
   "execution_count": 48,
   "id": "5501af1f-c19b-4b0c-b314-fea8e673b3b2",
   "metadata": {
    "tags": []
   },
   "outputs": [],
   "source": [
    "gene_list = {\n",
    "  \"Astro\" : [\"GFAP\",\"ALDH1L1\",\"SLC1A3\"],\n",
    "  \"Oligo\" : [\"MBP\", \"MOG\"],\n",
    "  \"Neu\" : [\"NRCAM\",\"NCAM2\",\"SHISA9\"],\n",
    "  \"Endo\" : [ 'VWF',\"CD34\",'SLC2A1'],\n",
    "  \"Peri\" : [\"MYO1B\",\"PDGFRB\",\"MCAM\"],\n",
    "  \"CAFs\": ['COL3A1','FBN1', 'LUM'],\n",
    "  \"Mic\" : [\"TREM2\", \"C1QA\", \"TYROBP\",\"AIF1\"],\n",
    "  \"Mac\" : [\"ITGAL\",\"FCER1G\",\"CSF1R\",'CD14'],\n",
    "  \"DC\": [\"CD1C\", \"CD1E\", \"CLEC10A\"],                                   #ITGAX为CD11c\n",
    "  \"Mono_CD16_Neg\" :[\"CD93\", \"ITGA5\",\"TREM1\"],\n",
    "  \"Mono_CD16_pos\" :[\"FCGR3A\"],\n",
    "  \"T_cell\" : ['CD3D', 'CD3E', 'CD4','CD8A',\"FOXP3\"],\n",
    "  \"B_cell\" : [\"CD19\", \"MS4A1\", \"BANK1\"],\n",
    "  \"GSCs\" : ['NES',\"SOX2\",\"SOX11\",\"TCF12\"],\n",
    "  \"Prolif_like\" : [\"MKI67\"]}"
   ]
  },
  {
   "cell_type": "code",
   "execution_count": null,
   "id": "72c37fa4-80a6-40b8-b729-c63b4b36313e",
   "metadata": {
    "tags": []
   },
   "outputs": [],
   "source": [
    "sc.pl.dotplot(adata, gene_list, groupby='leiden_R3')\n",
    "sc.pl.umap(adata, color=['leiden','leiden_R1','leiden_R2','leiden_R3'], legend_loc='on data')"
   ]
  },
  {
   "cell_type": "code",
   "execution_count": null,
   "id": "d174a198-f183-40d0-98d0-ddbc5580d754",
   "metadata": {
    "tags": []
   },
   "outputs": [],
   "source": [
    "sc.pl.stacked_violin(adata, \"FN1\", groupby='leiden', swap_axes=True,dendrogram=True)"
   ]
  }
 ],
 "metadata": {
  "kernelspec": {
   "display_name": "Python 3 (ipykernel)",
   "language": "python",
   "name": "python3"
  },
  "language_info": {
   "codemirror_mode": {
    "name": "ipython",
    "version": 3
   },
   "file_extension": ".py",
   "mimetype": "text/x-python",
   "name": "python",
   "nbconvert_exporter": "python",
   "pygments_lexer": "ipython3",
   "version": "3.10.12"
  }
 },
 "nbformat": 4,
 "nbformat_minor": 5
}
